{
 "cells": [
  {
   "cell_type": "code",
   "execution_count": 7,
   "id": "228bd0cb",
   "metadata": {},
   "outputs": [
    {
     "name": "stdout",
     "output_type": "stream",
     "text": [
      "Đã import các thư viện cần thiết\n"
     ]
    }
   ],
   "source": [
    "#import thư viện \n",
    "import torch\n",
    "import torch.nn as nn\n",
    "import torch.optim as optim\n",
    "from torchvision import datasets, transforms\n",
    "from torch.utils.data import DataLoader\n",
    "import matplotlib.pyplot as plt\n",
    "import numpy as np\n",
    "from tqdm import tqdm\n",
    "import os \n",
    "print(f\"Đã import các thư viện cần thiết\")"
   ]
  },
  {
   "cell_type": "code",
   "execution_count": 8,
   "id": "ee0cc968",
   "metadata": {},
   "outputs": [
    {
     "name": "stdout",
     "output_type": "stream",
     "text": [
      "Sử dụng thiết bị: mps\n",
      "Batch Size: 64\n",
      "Số Epochs: 50\n",
      "Learning Rate: 0.001\n",
      "Noise Factor: 0.3\n",
      "Thư mục dữ liệu: ./data\n"
     ]
    }
   ],
   "source": [
    "#Định nghĩa cấu hình thiết bị\n",
    "if torch.backends.mps.is_available():\n",
    "    device = torch.device(\"mps\")\n",
    "elif device.cuda.is_available():\n",
    "    device = torch.device(\"cuda\")\n",
    "else:\n",
    "    device = torch.device(\"cpu\")\n",
    "\n",
    "# Định nghĩa Hyperparameters\n",
    "batch_size = 64\n",
    "num_epochs = 50    # Số epochs huấn luyện\n",
    "learning_rate = 0.001  #tốc độ học \n",
    "noise_factor = 0.3      # Độ mạnh của nhiễu Gaussian\n",
    "data_dir = './data'      # Thư mục lưu dữ liệu MNIST\n",
    "\n",
    "print(f\"Sử dụng thiết bị: {device}\")\n",
    "print(f\"Batch Size: {batch_size}\")\n",
    "print(f\"Số Epochs: {num_epochs}\")\n",
    "print(f\"Learning Rate: {learning_rate}\")\n",
    "print(f\"Noise Factor: {noise_factor}\")\n",
    "print(f\"Thư mục dữ liệu: {data_dir}\")\n",
    "\n",
    "# Tạo thư mục data nếu chưa tồn tại\n",
    "os.makedirs(data_dir, exist_ok=True)"
   ]
  },
  {
   "cell_type": "code",
   "execution_count": 9,
   "id": "f8dc6372",
   "metadata": {},
   "outputs": [
    {
     "name": "stdout",
     "output_type": "stream",
     "text": [
      "Đã định nghĩa data transform (ToTensor).\n",
      "Tải/Kiểm tra dữ liệu MNIST thành công.\n"
     ]
    }
   ],
   "source": [
    "#định nghĩa phép biến đổi ảnh\n",
    "data_transform = transforms.Compose([\n",
    "    transforms.ToTensor() \n",
    "])\n",
    "print(\"Đã định nghĩa data transform (ToTensor).\")\n",
    "\n",
    "#tải Dataset MNIST\n",
    "try:\n",
    "    train_dataset = datasets.MNIST(root=data_dir, train=True, download=True, transform=data_transform)\n",
    "    test_dataset = datasets.MNIST(root=data_dir, train=False, download=True, transform=data_transform)\n",
    "    print(\"Tải/Kiểm tra dữ liệu MNIST thành công.\")\n",
    "except Exception as e:\n",
    "    print(f\"Lỗi khi tải MNIST: {e}. Vui lòng kiểm tra kết nối mạng hoặc thư mục DATA_DIR.\")\n",
    "    exit() "
   ]
  },
  {
   "cell_type": "code",
   "execution_count": 10,
   "id": "282a7a36",
   "metadata": {},
   "outputs": [
    {
     "name": "stdout",
     "output_type": "stream",
     "text": [
      "Đã tạo DataLoader.\n",
      "\n",
      "--- Kiểm tra DataLoader (Train) ---\n",
      "Trạng thái: Lấy thành công 1 batch.\n",
      "Kích thước batch ảnh: torch.Size([64, 1, 28, 28])\n",
      "Kích thước batch nhãn: torch.Size([64])\n",
      "Giá trị pixel ảnh: Min=0.00, Max=1.00\n",
      "==> Kiểm tra DataLoader thành công. ===\n",
      "-----------------------------\n"
     ]
    }
   ],
   "source": [
    "#tạo DataLoader\n",
    "train_loader = DataLoader(train_dataset, \n",
    "                          batch_size=batch_size, \n",
    "                          shuffle=True, \n",
    "                          num_workers=0) \n",
    "test_loader = DataLoader(test_dataset, \n",
    "                         batch_size=batch_size, \n",
    "                         shuffle=False, \n",
    "                         num_workers=0)\n",
    "print(f\"Đã tạo DataLoader.\")\n",
    "\n",
    "#kiểm tra DataLoader\n",
    "print(\"\\n--- Kiểm tra DataLoader (Train) ---\")\n",
    "try:\n",
    "    images_check, labels_check = next(iter(train_loader))\n",
    "    print(f\"Trạng thái: Lấy thành công 1 batch.\")\n",
    "    print(f\"Kích thước batch ảnh: {images_check.size()}\") \n",
    "    print(f\"Kích thước batch nhãn: {labels_check.size()}\") \n",
    "    print(f\"Giá trị pixel ảnh: Min={images_check.min():.2f}, Max={images_check.max():.2f}\") \n",
    "    print(f\"==> Kiểm tra DataLoader thành công. ===\")\n",
    "except StopIteration:\n",
    "     print(\"Lỗi: DataLoader rỗng.\")\n",
    "except Exception as e:\n",
    "    print(f\"Lỗi khi kiểm tra DataLoader: {e}\")\n",
    "print(\"-----------------------------\")"
   ]
  },
  {
   "cell_type": "code",
   "execution_count": 11,
   "id": "151b964c",
   "metadata": {},
   "outputs": [
    {
     "name": "stdout",
     "output_type": "stream",
     "text": [
      "\n",
      "---Định nghĩa Mô hình ConvDenoiser ---\n",
      "Khởi tạo ConvDenoiser.\n",
      "ConvDenoiser(\n",
      "  (encoder): Sequential(\n",
      "    (0): Conv2d(1, 16, kernel_size=(3, 3), stride=(1, 1), padding=(1, 1))\n",
      "    (1): ReLU()\n",
      "    (2): MaxPool2d(kernel_size=2, stride=2, padding=0, dilation=1, ceil_mode=False)\n",
      "    (3): Conv2d(16, 32, kernel_size=(3, 3), stride=(1, 1), padding=(1, 1))\n",
      "    (4): ReLU()\n",
      "    (5): MaxPool2d(kernel_size=2, stride=2, padding=0, dilation=1, ceil_mode=False)\n",
      "  )\n",
      "  (decoder): Sequential(\n",
      "    (0): ConvTranspose2d(32, 16, kernel_size=(2, 2), stride=(2, 2))\n",
      "    (1): ReLU()\n",
      "    (2): ConvTranspose2d(16, 1, kernel_size=(2, 2), stride=(2, 2))\n",
      "    (3): Sigmoid()\n",
      "  )\n",
      ")\n"
     ]
    }
   ],
   "source": [
    "\n",
    "#khởi tạo mô hình\n",
    "print(\"\\n---Định nghĩa Mô hình ConvDenoiser ---\")\n",
    "class ConvDenoiser(nn.Module):\n",
    "    def __init__(self):\n",
    "        super().__init__()\n",
    "        #Encoder\n",
    "        self.encoder = nn.Sequential(\n",
    "            #Block1\n",
    "            nn.Conv2d(1, 16, kernel_size=3, padding=1), \n",
    "            nn.ReLU(),\n",
    "            nn.MaxPool2d(2, stride=2),      \n",
    "            #Block2           \n",
    "            nn.Conv2d(16, 32, kernel_size=3, padding=1),\n",
    "            nn.ReLU(),\n",
    "            nn.MaxPool2d(2, stride=2)                  \n",
    "        )\n",
    "        #Decoder\n",
    "        self.decoder = nn.Sequential(\n",
    "            nn.ConvTranspose2d(32, 16, kernel_size=2, stride=2),\n",
    "            nn.ReLU(),\n",
    "            nn.ConvTranspose2d(16, 1, kernel_size=2, stride=2),\n",
    "            nn.Sigmoid()\n",
    "        )\n",
    "        print(\"Khởi tạo ConvDenoiser.\")\n",
    "\n",
    "    def forward(self, x):\n",
    "        x = self.encoder(x)\n",
    "        x = self.decoder(x)\n",
    "        return x\n",
    "\n",
    "# Khởi tạo model và chuyển lên device\n",
    "model = ConvDenoiser().to(device)\n",
    "print(model)\n"
   ]
  },
  {
   "cell_type": "code",
   "execution_count": 12,
   "id": "46eb1af6",
   "metadata": {},
   "outputs": [
    {
     "name": "stdout",
     "output_type": "stream",
     "text": [
      "\n",
      "--- 4. Thiết lập Huấn luyện ---\n",
      "Sử dụng hàm Loss: MSELoss\n",
      "Sử dụng Optimizer: Adam với learning rate 0.001\n",
      "\n",
      "--- Bắt đầu Huấn luyện ---\n"
     ]
    },
    {
     "name": "stderr",
     "output_type": "stream",
     "text": [
      "Epoch 1/50: 100%|██████████| 938/938 [00:13<00:00, 68.40it/s, loss=0.046350]\n"
     ]
    },
    {
     "name": "stdout",
     "output_type": "stream",
     "text": [
      "Epoch [1/50] - Average Training Loss: 0.060701\n"
     ]
    },
    {
     "name": "stderr",
     "output_type": "stream",
     "text": [
      "Epoch 2/50: 100%|██████████| 938/938 [00:10<00:00, 85.45it/s, loss=0.047669]\n"
     ]
    },
    {
     "name": "stdout",
     "output_type": "stream",
     "text": [
      "Epoch [2/50] - Average Training Loss: 0.043072\n"
     ]
    },
    {
     "name": "stderr",
     "output_type": "stream",
     "text": [
      "Epoch 3/50: 100%|██████████| 938/938 [00:11<00:00, 83.63it/s, loss=0.041513]\n"
     ]
    },
    {
     "name": "stdout",
     "output_type": "stream",
     "text": [
      "Epoch [3/50] - Average Training Loss: 0.042236\n"
     ]
    },
    {
     "name": "stderr",
     "output_type": "stream",
     "text": [
      "Epoch 4/50: 100%|██████████| 938/938 [00:11<00:00, 83.83it/s, loss=0.040985]\n"
     ]
    },
    {
     "name": "stdout",
     "output_type": "stream",
     "text": [
      "Epoch [4/50] - Average Training Loss: 0.041884\n"
     ]
    },
    {
     "name": "stderr",
     "output_type": "stream",
     "text": [
      "Epoch 5/50: 100%|██████████| 938/938 [00:11<00:00, 83.22it/s, loss=0.040261]\n"
     ]
    },
    {
     "name": "stdout",
     "output_type": "stream",
     "text": [
      "Epoch [5/50] - Average Training Loss: 0.041571\n"
     ]
    },
    {
     "name": "stderr",
     "output_type": "stream",
     "text": [
      "Epoch 6/50: 100%|██████████| 938/938 [00:11<00:00, 84.21it/s, loss=0.042964]\n"
     ]
    },
    {
     "name": "stdout",
     "output_type": "stream",
     "text": [
      "Epoch [6/50] - Average Training Loss: 0.041451\n"
     ]
    },
    {
     "name": "stderr",
     "output_type": "stream",
     "text": [
      "Epoch 7/50: 100%|██████████| 938/938 [00:10<00:00, 85.72it/s, loss=0.040237]\n"
     ]
    },
    {
     "name": "stdout",
     "output_type": "stream",
     "text": [
      "Epoch [7/50] - Average Training Loss: 0.041157\n"
     ]
    },
    {
     "name": "stderr",
     "output_type": "stream",
     "text": [
      "Epoch 8/50: 100%|██████████| 938/938 [00:11<00:00, 82.82it/s, loss=0.041725]\n"
     ]
    },
    {
     "name": "stdout",
     "output_type": "stream",
     "text": [
      "Epoch [8/50] - Average Training Loss: 0.041000\n"
     ]
    },
    {
     "name": "stderr",
     "output_type": "stream",
     "text": [
      "Epoch 9/50: 100%|██████████| 938/938 [00:11<00:00, 84.12it/s, loss=0.041251]\n"
     ]
    },
    {
     "name": "stdout",
     "output_type": "stream",
     "text": [
      "Epoch [9/50] - Average Training Loss: 0.040730\n"
     ]
    },
    {
     "name": "stderr",
     "output_type": "stream",
     "text": [
      "Epoch 10/50: 100%|██████████| 938/938 [00:10<00:00, 87.12it/s, loss=0.039982]\n"
     ]
    },
    {
     "name": "stdout",
     "output_type": "stream",
     "text": [
      "Epoch [10/50] - Average Training Loss: 0.040571\n"
     ]
    },
    {
     "name": "stderr",
     "output_type": "stream",
     "text": [
      "Epoch 11/50: 100%|██████████| 938/938 [00:10<00:00, 87.23it/s, loss=0.040937]\n"
     ]
    },
    {
     "name": "stdout",
     "output_type": "stream",
     "text": [
      "Epoch [11/50] - Average Training Loss: 0.040546\n"
     ]
    },
    {
     "name": "stderr",
     "output_type": "stream",
     "text": [
      "Epoch 12/50: 100%|██████████| 938/938 [00:10<00:00, 87.87it/s, loss=0.037837]\n"
     ]
    },
    {
     "name": "stdout",
     "output_type": "stream",
     "text": [
      "Epoch [12/50] - Average Training Loss: 0.040365\n"
     ]
    },
    {
     "name": "stderr",
     "output_type": "stream",
     "text": [
      "Epoch 13/50: 100%|██████████| 938/938 [00:10<00:00, 87.77it/s, loss=0.041007]\n"
     ]
    },
    {
     "name": "stdout",
     "output_type": "stream",
     "text": [
      "Epoch [13/50] - Average Training Loss: 0.040337\n"
     ]
    },
    {
     "name": "stderr",
     "output_type": "stream",
     "text": [
      "Epoch 14/50: 100%|██████████| 938/938 [00:11<00:00, 84.41it/s, loss=0.041184]\n"
     ]
    },
    {
     "name": "stdout",
     "output_type": "stream",
     "text": [
      "Epoch [14/50] - Average Training Loss: 0.040277\n"
     ]
    },
    {
     "name": "stderr",
     "output_type": "stream",
     "text": [
      "Epoch 15/50: 100%|██████████| 938/938 [00:11<00:00, 84.98it/s, loss=0.040014]\n"
     ]
    },
    {
     "name": "stdout",
     "output_type": "stream",
     "text": [
      "Epoch [15/50] - Average Training Loss: 0.040177\n"
     ]
    },
    {
     "name": "stderr",
     "output_type": "stream",
     "text": [
      "Epoch 16/50: 100%|██████████| 938/938 [00:10<00:00, 87.48it/s, loss=0.039721]\n"
     ]
    },
    {
     "name": "stdout",
     "output_type": "stream",
     "text": [
      "Epoch [16/50] - Average Training Loss: 0.040131\n"
     ]
    },
    {
     "name": "stderr",
     "output_type": "stream",
     "text": [
      "Epoch 17/50: 100%|██████████| 938/938 [00:11<00:00, 84.84it/s, loss=0.039915]\n"
     ]
    },
    {
     "name": "stdout",
     "output_type": "stream",
     "text": [
      "Epoch [17/50] - Average Training Loss: 0.040040\n"
     ]
    },
    {
     "name": "stderr",
     "output_type": "stream",
     "text": [
      "Epoch 18/50: 100%|██████████| 938/938 [00:10<00:00, 86.46it/s, loss=0.037443]\n"
     ]
    },
    {
     "name": "stdout",
     "output_type": "stream",
     "text": [
      "Epoch [18/50] - Average Training Loss: 0.039974\n"
     ]
    },
    {
     "name": "stderr",
     "output_type": "stream",
     "text": [
      "Epoch 19/50: 100%|██████████| 938/938 [00:10<00:00, 86.47it/s, loss=0.040626]\n"
     ]
    },
    {
     "name": "stdout",
     "output_type": "stream",
     "text": [
      "Epoch [19/50] - Average Training Loss: 0.039984\n"
     ]
    },
    {
     "name": "stderr",
     "output_type": "stream",
     "text": [
      "Epoch 20/50: 100%|██████████| 938/938 [00:10<00:00, 86.29it/s, loss=0.041264]\n"
     ]
    },
    {
     "name": "stdout",
     "output_type": "stream",
     "text": [
      "Epoch [20/50] - Average Training Loss: 0.039949\n"
     ]
    },
    {
     "name": "stderr",
     "output_type": "stream",
     "text": [
      "Epoch 21/50: 100%|██████████| 938/938 [00:10<00:00, 87.10it/s, loss=0.039621]\n"
     ]
    },
    {
     "name": "stdout",
     "output_type": "stream",
     "text": [
      "Epoch [21/50] - Average Training Loss: 0.039904\n"
     ]
    },
    {
     "name": "stderr",
     "output_type": "stream",
     "text": [
      "Epoch 22/50: 100%|██████████| 938/938 [00:10<00:00, 88.33it/s, loss=0.041122]\n"
     ]
    },
    {
     "name": "stdout",
     "output_type": "stream",
     "text": [
      "Epoch [22/50] - Average Training Loss: 0.039823\n"
     ]
    },
    {
     "name": "stderr",
     "output_type": "stream",
     "text": [
      "Epoch 23/50: 100%|██████████| 938/938 [00:10<00:00, 87.20it/s, loss=0.038465]\n"
     ]
    },
    {
     "name": "stdout",
     "output_type": "stream",
     "text": [
      "Epoch [23/50] - Average Training Loss: 0.039770\n"
     ]
    },
    {
     "name": "stderr",
     "output_type": "stream",
     "text": [
      "Epoch 24/50: 100%|██████████| 938/938 [00:10<00:00, 88.53it/s, loss=0.040420]\n"
     ]
    },
    {
     "name": "stdout",
     "output_type": "stream",
     "text": [
      "Epoch [24/50] - Average Training Loss: 0.039771\n"
     ]
    },
    {
     "name": "stderr",
     "output_type": "stream",
     "text": [
      "Epoch 25/50: 100%|██████████| 938/938 [00:10<00:00, 85.62it/s, loss=0.037474]\n"
     ]
    },
    {
     "name": "stdout",
     "output_type": "stream",
     "text": [
      "Epoch [25/50] - Average Training Loss: 0.039750\n"
     ]
    },
    {
     "name": "stderr",
     "output_type": "stream",
     "text": [
      "Epoch 26/50: 100%|██████████| 938/938 [00:10<00:00, 86.37it/s, loss=0.038180]\n"
     ]
    },
    {
     "name": "stdout",
     "output_type": "stream",
     "text": [
      "Epoch [26/50] - Average Training Loss: 0.039669\n"
     ]
    },
    {
     "name": "stderr",
     "output_type": "stream",
     "text": [
      "Epoch 27/50: 100%|██████████| 938/938 [00:10<00:00, 87.20it/s, loss=0.042980]\n"
     ]
    },
    {
     "name": "stdout",
     "output_type": "stream",
     "text": [
      "Epoch [27/50] - Average Training Loss: 0.039680\n"
     ]
    },
    {
     "name": "stderr",
     "output_type": "stream",
     "text": [
      "Epoch 28/50: 100%|██████████| 938/938 [00:10<00:00, 86.32it/s, loss=0.039068]\n"
     ]
    },
    {
     "name": "stdout",
     "output_type": "stream",
     "text": [
      "Epoch [28/50] - Average Training Loss: 0.039667\n"
     ]
    },
    {
     "name": "stderr",
     "output_type": "stream",
     "text": [
      "Epoch 29/50: 100%|██████████| 938/938 [00:10<00:00, 86.77it/s, loss=0.041676]\n"
     ]
    },
    {
     "name": "stdout",
     "output_type": "stream",
     "text": [
      "Epoch [29/50] - Average Training Loss: 0.039630\n"
     ]
    },
    {
     "name": "stderr",
     "output_type": "stream",
     "text": [
      "Epoch 30/50: 100%|██████████| 938/938 [00:10<00:00, 86.86it/s, loss=0.039527]\n"
     ]
    },
    {
     "name": "stdout",
     "output_type": "stream",
     "text": [
      "Epoch [30/50] - Average Training Loss: 0.039608\n"
     ]
    },
    {
     "name": "stderr",
     "output_type": "stream",
     "text": [
      "Epoch 31/50: 100%|██████████| 938/938 [00:10<00:00, 85.92it/s, loss=0.037538]\n"
     ]
    },
    {
     "name": "stdout",
     "output_type": "stream",
     "text": [
      "Epoch [31/50] - Average Training Loss: 0.039657\n"
     ]
    },
    {
     "name": "stderr",
     "output_type": "stream",
     "text": [
      "Epoch 32/50: 100%|██████████| 938/938 [00:10<00:00, 86.67it/s, loss=0.035967]\n"
     ]
    },
    {
     "name": "stdout",
     "output_type": "stream",
     "text": [
      "Epoch [32/50] - Average Training Loss: 0.039471\n"
     ]
    },
    {
     "name": "stderr",
     "output_type": "stream",
     "text": [
      "Epoch 33/50: 100%|██████████| 938/938 [00:11<00:00, 83.90it/s, loss=0.041161]\n"
     ]
    },
    {
     "name": "stdout",
     "output_type": "stream",
     "text": [
      "Epoch [33/50] - Average Training Loss: 0.039464\n"
     ]
    },
    {
     "name": "stderr",
     "output_type": "stream",
     "text": [
      "Epoch 34/50: 100%|██████████| 938/938 [00:12<00:00, 75.29it/s, loss=0.038266] \n"
     ]
    },
    {
     "name": "stdout",
     "output_type": "stream",
     "text": [
      "Epoch [34/50] - Average Training Loss: 0.039508\n"
     ]
    },
    {
     "name": "stderr",
     "output_type": "stream",
     "text": [
      "Epoch 35/50: 100%|██████████| 938/938 [00:11<00:00, 78.89it/s, loss=0.038520]\n"
     ]
    },
    {
     "name": "stdout",
     "output_type": "stream",
     "text": [
      "Epoch [35/50] - Average Training Loss: 0.039503\n"
     ]
    },
    {
     "name": "stderr",
     "output_type": "stream",
     "text": [
      "Epoch 36/50: 100%|██████████| 938/938 [00:11<00:00, 83.07it/s, loss=0.038738]\n"
     ]
    },
    {
     "name": "stdout",
     "output_type": "stream",
     "text": [
      "Epoch [36/50] - Average Training Loss: 0.039427\n"
     ]
    },
    {
     "name": "stderr",
     "output_type": "stream",
     "text": [
      "Epoch 37/50: 100%|██████████| 938/938 [00:10<00:00, 87.42it/s, loss=0.036953]\n"
     ]
    },
    {
     "name": "stdout",
     "output_type": "stream",
     "text": [
      "Epoch [37/50] - Average Training Loss: 0.039490\n"
     ]
    },
    {
     "name": "stderr",
     "output_type": "stream",
     "text": [
      "Epoch 38/50: 100%|██████████| 938/938 [00:10<00:00, 85.72it/s, loss=0.041588]\n"
     ]
    },
    {
     "name": "stdout",
     "output_type": "stream",
     "text": [
      "Epoch [38/50] - Average Training Loss: 0.039421\n"
     ]
    },
    {
     "name": "stderr",
     "output_type": "stream",
     "text": [
      "Epoch 39/50: 100%|██████████| 938/938 [00:10<00:00, 86.62it/s, loss=0.037153]\n"
     ]
    },
    {
     "name": "stdout",
     "output_type": "stream",
     "text": [
      "Epoch [39/50] - Average Training Loss: 0.039359\n"
     ]
    },
    {
     "name": "stderr",
     "output_type": "stream",
     "text": [
      "Epoch 40/50: 100%|██████████| 938/938 [00:10<00:00, 86.14it/s, loss=0.041601]\n"
     ]
    },
    {
     "name": "stdout",
     "output_type": "stream",
     "text": [
      "Epoch [40/50] - Average Training Loss: 0.039340\n"
     ]
    },
    {
     "name": "stderr",
     "output_type": "stream",
     "text": [
      "Epoch 41/50: 100%|██████████| 938/938 [00:10<00:00, 86.18it/s, loss=0.038632]\n"
     ]
    },
    {
     "name": "stdout",
     "output_type": "stream",
     "text": [
      "Epoch [41/50] - Average Training Loss: 0.039370\n"
     ]
    },
    {
     "name": "stderr",
     "output_type": "stream",
     "text": [
      "Epoch 42/50: 100%|██████████| 938/938 [00:10<00:00, 86.12it/s, loss=0.038392]\n"
     ]
    },
    {
     "name": "stdout",
     "output_type": "stream",
     "text": [
      "Epoch [42/50] - Average Training Loss: 0.039256\n"
     ]
    },
    {
     "name": "stderr",
     "output_type": "stream",
     "text": [
      "Epoch 43/50: 100%|██████████| 938/938 [00:11<00:00, 81.43it/s, loss=0.036950]\n"
     ]
    },
    {
     "name": "stdout",
     "output_type": "stream",
     "text": [
      "Epoch [43/50] - Average Training Loss: 0.039325\n"
     ]
    },
    {
     "name": "stderr",
     "output_type": "stream",
     "text": [
      "Epoch 44/50: 100%|██████████| 938/938 [00:11<00:00, 82.57it/s, loss=0.036836]\n"
     ]
    },
    {
     "name": "stdout",
     "output_type": "stream",
     "text": [
      "Epoch [44/50] - Average Training Loss: 0.039330\n"
     ]
    },
    {
     "name": "stderr",
     "output_type": "stream",
     "text": [
      "Epoch 45/50: 100%|██████████| 938/938 [00:11<00:00, 81.86it/s, loss=0.041456]\n"
     ]
    },
    {
     "name": "stdout",
     "output_type": "stream",
     "text": [
      "Epoch [45/50] - Average Training Loss: 0.039294\n"
     ]
    },
    {
     "name": "stderr",
     "output_type": "stream",
     "text": [
      "Epoch 46/50: 100%|██████████| 938/938 [00:10<00:00, 86.60it/s, loss=0.039914]\n"
     ]
    },
    {
     "name": "stdout",
     "output_type": "stream",
     "text": [
      "Epoch [46/50] - Average Training Loss: 0.039353\n"
     ]
    },
    {
     "name": "stderr",
     "output_type": "stream",
     "text": [
      "Epoch 47/50: 100%|██████████| 938/938 [00:10<00:00, 85.36it/s, loss=0.038272]\n"
     ]
    },
    {
     "name": "stdout",
     "output_type": "stream",
     "text": [
      "Epoch [47/50] - Average Training Loss: 0.039261\n"
     ]
    },
    {
     "name": "stderr",
     "output_type": "stream",
     "text": [
      "Epoch 48/50: 100%|██████████| 938/938 [00:10<00:00, 86.55it/s, loss=0.039076]\n"
     ]
    },
    {
     "name": "stdout",
     "output_type": "stream",
     "text": [
      "Epoch [48/50] - Average Training Loss: 0.039261\n"
     ]
    },
    {
     "name": "stderr",
     "output_type": "stream",
     "text": [
      "Epoch 49/50: 100%|██████████| 938/938 [00:10<00:00, 86.81it/s, loss=0.040805]\n"
     ]
    },
    {
     "name": "stdout",
     "output_type": "stream",
     "text": [
      "Epoch [49/50] - Average Training Loss: 0.039252\n"
     ]
    },
    {
     "name": "stderr",
     "output_type": "stream",
     "text": [
      "Epoch 50/50: 100%|██████████| 938/938 [00:11<00:00, 84.80it/s, loss=0.035690]\n"
     ]
    },
    {
     "name": "stdout",
     "output_type": "stream",
     "text": [
      "Epoch [50/50] - Average Training Loss: 0.039193\n",
      " Huấn luyện hoàn tất\n"
     ]
    },
    {
     "data": {
      "image/png": "[encoded data removed]",
      "text/plain": [
       "<Figure size 1000x500 with 1 Axes>"
      ]
     },
     "metadata": {},
     "output_type": "display_data"
    }
   ],
   "source": [
    "#huấn luyện mô hình\n",
    "print(\"\\n--- 4. Thiết lập Huấn luyện ---\")\n",
    "\n",
    "#định nghĩa hàm loss\n",
    "criterion = nn.MSELoss() \n",
    "print(f\"Sử dụng hàm Loss: MSELoss\")\n",
    "\n",
    "#định nghĩa optimizer\n",
    "optimizer = optim.Adam(model.parameters(), lr=learning_rate)\n",
    "print(f\"Sử dụng Optimizer: Adam với learning rate {learning_rate}\")\n",
    "\n",
    "#vòng lặp Huấn luyện\n",
    "print(\"\\n--- Bắt đầu Huấn luyện ---\")\n",
    "history = {'train_loss': []} \n",
    "\n",
    "for epoch in range(num_epochs):\n",
    "    model.train() # Đặt model ở chế độ training\n",
    "    epoch_loss = 0.0\n",
    "    train_iterator = tqdm(train_loader, desc=f'Epoch {epoch+1}/{num_epochs}', leave=True)\n",
    "\n",
    "    for data in train_iterator:\n",
    "        clean_images, _ = data # Lấy ảnh sạch, bỏ qua nhãn\n",
    "        clean_images = clean_images.to(device)\n",
    "\n",
    "        #tạo ảnh nhiễu Gaussian \n",
    "        noise = torch.randn_like(clean_images) \n",
    "        noisy_images = torch.clamp(clean_images + noise, 0., 1.) # Cộng nhiễu và giữ trong [0, 1]\n",
    "        noisy_images = noisy_images.to(device) \n",
    "        \n",
    "\n",
    "        #forward pass\n",
    "        outputs = model(noisy_images) \n",
    "        \n",
    "\n",
    "        #tính loss\n",
    "        loss = criterion(outputs, clean_images)\n",
    "        \n",
    "\n",
    "        #backward pass và optimizer\n",
    "        optimizer.zero_grad()\n",
    "        loss.backward()\n",
    "        optimizer.step()\n",
    "\n",
    "\n",
    "        epoch_loss += loss.item()\n",
    "        train_iterator.set_postfix(loss=f\"{loss.item():.6f}\")\n",
    "\n",
    "    avg_epoch_loss = epoch_loss / len(train_loader)\n",
    "    history['train_loss'].append(avg_epoch_loss)\n",
    "    print(f\"Epoch [{epoch+1}/{num_epochs}] - Average Training Loss: {avg_epoch_loss:.6f}\")\n",
    "\n",
    "print(f\" Huấn luyện hoàn tất\")\n",
    "\n",
    "#vẽ đồ thị loss\n",
    "plt.figure(figsize=(10, 5))\n",
    "plt.plot(range(1, num_epochs + 1), history['train_loss'], marker='o', linestyle='-')\n",
    "plt.title('Training Loss per Epoch')\n",
    "plt.xlabel('Epoch')\n",
    "plt.ylabel('Average MSE Loss')\n",
    "plt.grid(True)\n",
    "plt.show()\n"
   ]
  },
  {
   "cell_type": "code",
   "execution_count": 13,
   "id": "4f0bb6c7",
   "metadata": {},
   "outputs": [
    {
     "name": "stdout",
     "output_type": "stream",
     "text": [
      "\n",
      "Trực quan hóa kết quả trên tập Test ---\n"
     ]
    },
    {
     "data": {
      "image/png": "[encoded data removed]",
      "text/plain": [
       "<Figure size 2000x600 with 30 Axes>"
      ]
     },
     "metadata": {},
     "output_type": "display_data"
    }
   ],
   "source": [
    "print(\"\\nTrực quan hóa kết quả trên tập Test ---\")\n",
    "model.eval() #Chuyển model sang chế độ đánh giá\n",
    "\n",
    "# Lấy một batch dữ liệu từ test_loader\n",
    "try:\n",
    "    test_iterator = iter(test_loader)\n",
    "    clean_test_images, _ = next(test_iterator)\n",
    "    clean_test_images = clean_test_images.to(device)\n",
    "except StopIteration:\n",
    "    print(\"Lỗi: Test loader rỗng.\")\n",
    "    clean_test_images = None # Đặt là None để xử lý ở dưới\n",
    "\n",
    "if clean_test_images is not None:\n",
    "    # Tạo nhiễu cho batch test (dùng cùng NOISE_FACTOR)\n",
    "    noise = torch.randn_like(clean_test_images) * noise_factor\n",
    "    noisy_test_images = torch.clamp(clean_test_images + noise, 0., 1.).to(device)\n",
    "\n",
    "    # Chạy model để lọc nhiễu (không cần tính gradient)\n",
    "    with torch.no_grad():\n",
    "        denoised_test_images = model(noisy_test_images)\n",
    "\n",
    "    # Chuyển dữ liệu về CPU và NumPy để hiển thị\n",
    "    clean_np = clean_test_images.cpu().numpy()\n",
    "    noisy_np = noisy_test_images.cpu().numpy()\n",
    "    denoised_np = denoised_test_images.cpu().numpy()\n",
    "\n",
    "    # Hiển thị ảnh\n",
    "    n_display = 10 \n",
    "    plt.figure(figsize=(20, 6)) \n",
    "    plt.suptitle(\"So sánh: Ảnh gốc - Ảnh nhiễu (Input) - Ảnh lọc nhiễu (Output)\", fontsize=16)\n",
    "\n",
    "    for i in range(min(n_display, len(clean_np))): \n",
    "        # Ảnh gốc sạch\n",
    "        ax = plt.subplot(3, n_display, i + 1)\n",
    "        plt.imshow(np.squeeze(clean_np[i]), cmap='gray') \n",
    "        ax.set_title(\"Sạch\")\n",
    "        ax.axis('off') \n",
    "\n",
    "        # Ảnh nhiễu (Input)\n",
    "        ax = plt.subplot(3, n_display, i + 1 + n_display)\n",
    "        plt.imshow(np.squeeze(noisy_np[i]), cmap='gray')\n",
    "        ax.set_title(\"Nhiễu (In)\")\n",
    "        ax.axis('off')\n",
    "\n",
    "        # Ảnh đã lọc nhiễu (Output)\n",
    "        ax = plt.subplot(3, n_display, i + 1 + 2 * n_display)\n",
    "        plt.imshow(np.squeeze(denoised_np[i]), cmap='gray')\n",
    "        ax.set_title(\"Lọc nhiễu (Out)\")\n",
    "        ax.axis('off')\n",
    "\n",
    "    plt.tight_layout(rect=[0, 0.03, 1, 0.95]) \n",
    "    plt.show() \n",
    "else:\n",
    "    print(\"Không thể trực quan hóa do lỗi khi lấy dữ liệu test.\")"
   ]
  },
  {
   "cell_type": "code",
   "execution_count": 14,
   "id": "95d516fa",
   "metadata": {},
   "outputs": [
    {
     "name": "stdout",
     "output_type": "stream",
     "text": [
      "Đã lưu model vào 'conv_denoiser_mnist.pth'\n",
      "\n",
      "Chương trình Bài 3 hoàn tất.\n"
     ]
    }
   ],
   "source": [
    "#lưu model\n",
    "# print(\"\\n--- Lưu Model ---\")\n",
    "save_path = 'conv_denoiser_mnist.pth'\n",
    "torch.save(model.state_dict(), save_path)\n",
    "print(f\"Đã lưu model vào '{save_path}'\")\n",
    "print(\"\\nChương trình Bài 3 hoàn tất.\")"
   ]
  }
 ],
 "metadata": {
  "kernelspec": {
   "display_name": "vy_minh_clean",
   "language": "python",
   "name": "python3"
  },
  "language_info": {
   "codemirror_mode": {
    "name": "ipython",
    "version": 3
   },
   "file_extension": ".py",
   "mimetype": "text/x-python",
   "name": "python",
   "nbconvert_exporter": "python",
   "pygments_lexer": "ipython3",
   "version": "3.10.16"
  }
 },
 "nbformat": 4,
 "nbformat_minor": 5
}
