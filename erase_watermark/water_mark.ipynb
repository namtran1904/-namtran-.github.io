{
 "cells": [
  {
   "cell_type": "code",
   "execution_count": 21,
   "metadata": {},
   "outputs": [
    {
     "name": "stdout",
     "output_type": "stream",
     "text": [
      "Đã import các thư viện cần thiết\n"
     ]
    }
   ],
   "source": [
    "import torch\n",
    "import torch.nn as nn\n",
    "import torch.nn.functional as F\n",
    "import torch.optim as optim\n",
    "from torch.utils.data import Dataset, DataLoader\n",
    "from torchvision import transforms\n",
    "from PIL import Image, ImageDraw, ImageFont # Thêm thư viện PIL đầy đủ\n",
    "import os\n",
    "import random\n",
    "import matplotlib.pyplot as plt\n",
    "import numpy as np\n",
    "print(f\"Đã import các thư viện cần thiết\")"
   ]
  },
  {
   "cell_type": "code",
   "execution_count": 22,
   "metadata": {},
   "outputs": [
    {
     "name": "stdout",
     "output_type": "stream",
     "text": [
      "Đang sử dụng thiết bị mps\n",
      "Kích thước ảnh mục tiêu: 128*128\n",
      "Batch size: 32\n",
      "Số lượng epochs: 15\n",
      "Tốc độ học: 0.001\n",
      "Thư mục gốc dữ liệu: ./data\n"
     ]
    }
   ],
   "source": [
    "#định nghĩa parameters và cấu hình\n",
    "#định nghĩa thiết bị\n",
    "if torch.backends.mps.is_available():\n",
    "    device=torch.device('mps')\n",
    "elif torch.cude.is_available():\n",
    "    device=torch.device('cuda')\n",
    "else:\n",
    "    device=torch.device('cpu')\n",
    "print(f\"Đang sử dụng thiết bị {device}\")\n",
    "\n",
    "#định nghĩa các tham số\n",
    "batch_size=32\n",
    "epochs=15\n",
    "learning_rate=0.001\n",
    "img_size=128\n",
    "data_root_dir='./data'\n",
    "print(f\"Kích thước ảnh mục tiêu: {img_size}*{img_size}\")\n",
    "print(f\"Batch size: {batch_size}\")\n",
    "print(f\"Số lượng epochs: {epochs}\")\n",
    "print(f\"Tốc độ học: {learning_rate}\")\n",
    "print(f\"Thư mục gốc dữ liệu: {data_root_dir}\")\n"
   ]
  },
  {
   "cell_type": "code",
   "execution_count": 23,
   "metadata": {},
   "outputs": [
    {
     "name": "stdout",
     "output_type": "stream",
     "text": [
      "Đã định nghĩa các phép biến đổi dữ liệu\n",
      "Tiến hành xử lý đường dẫn dữ liệu và kiểm tra file ảnh\n"
     ]
    },
    {
     "ename": "NameError",
     "evalue": "name 'val_cleaned_dir' is not defined",
     "output_type": "error",
     "traceback": [
      "\u001b[0;31m---------------------------------------------------------------------------\u001b[0m",
      "\u001b[0;31mNameError\u001b[0m                                 Traceback (most recent call last)",
      "Cell \u001b[0;32mIn[23], line 57\u001b[0m\n\u001b[1;32m     55\u001b[0m     val_watermarked_dir\u001b[38;5;241m=\u001b[39mos\u001b[38;5;241m.\u001b[39mpath\u001b[38;5;241m.\u001b[39mjoin(data_root_dir,\u001b[38;5;124m'\u001b[39m\u001b[38;5;124mval\u001b[39m\u001b[38;5;124m'\u001b[39m,\u001b[38;5;124m'\u001b[39m\u001b[38;5;124mwatermarked\u001b[39m\u001b[38;5;124m'\u001b[39m)\n\u001b[1;32m     56\u001b[0m \u001b[38;5;66;03m#kiểm tra xem đường dẫn có trỏ đến thư mục tồn tại\u001b[39;00m\n\u001b[0;32m---> 57\u001b[0m \u001b[38;5;28;01mif\u001b[39;00m \u001b[38;5;129;01mnot\u001b[39;00m os\u001b[38;5;241m.\u001b[39mpath\u001b[38;5;241m.\u001b[39misdir(\u001b[43mval_cleaned_dir\u001b[49m):\n\u001b[1;32m     58\u001b[0m     \u001b[38;5;28mprint\u001b[39m(\u001b[38;5;124mf\u001b[39m\u001b[38;5;124m\"\u001b[39m\u001b[38;5;124mThư mục \u001b[39m\u001b[38;5;132;01m{\u001b[39;00mval_cleaned_dir\u001b[38;5;132;01m}\u001b[39;00m\u001b[38;5;124m không tồn tại\u001b[39m\u001b[38;5;124m\"\u001b[39m)\n\u001b[1;32m     59\u001b[0m     data_valid\u001b[38;5;241m=\u001b[39m\u001b[38;5;28;01mFalse\u001b[39;00m\n",
      "\u001b[0;31mNameError\u001b[0m: name 'val_cleaned_dir' is not defined"
     ]
    }
   ],
   "source": [
    "# xử lý đường dẫn dữ liệu và dataset\n",
    "#định nghĩa các phép biến đổi\n",
    "data_transform=transforms.Compose([\n",
    "    transforms.Resize((img_size,img_size)),\n",
    "    transforms.ToTensor(),\n",
    "    transforms.Normalize(mean=[0.5, 0.5, 0.5], std=[0.5, 0.5, 0.5])\n",
    "])\n",
    "print(f\"Đã định nghĩa các phép biến đổi dữ liệu\")\n",
    "\n",
    "#xử lý đường dẫn dữ liệu\n",
    "print(f\"Tiến hành xử lý đường dẫn dữ liệu và kiểm tra file ảnh\")\n",
    "train_images_pair=[]\n",
    "test_images_pair=[]\n",
    "data_valid=False\n",
    "\n",
    "#đường dẫn đến data/train/watermarked và data/train/cleaned\n",
    "train_cleaned_dir=os.path.join(data_root_dir,'train','cleaned')\n",
    "train_watermarked_dir=os.path.join(data_root_dir,'train','watermarked')\n",
    "\n",
    " #kiểm tra xem đường dẫn có trỏ đến thư mục tồn tại\n",
    "if not os.path.isdir(train_cleaned_dir):\n",
    "    print(f\"Thư mục {train_cleaned_dir} không tồn tại\")\n",
    "    data_valid=False\n",
    "if not os.path.isdir(train_watermarked_dir):\n",
    "    print(f\"Thư mục {train_watermarked_dir} không tồn tại\")\n",
    "    data_valid=False\n",
    "\n",
    "if data_valid:\n",
    "    print(f\"Đang quét thư mục {train_watermarked_dir}\")\n",
    "    try:\n",
    "        train_files=sorted([\n",
    "            f for f in os.listdir(train_watermarked_dir)\n",
    "            if f.lower().endswith(('.png','.jpg','.jpeg'))\n",
    "        ])\n",
    "        if not train_files:\n",
    "            print(f\"Không tìm thấy file nào trong thư mục {train_watermarked_dir}\")\n",
    "        for file_name in train_files:\n",
    "            watermarked_path=os.path.join(train_watermarked_dir,file_name)\n",
    "            cleaned_path=os.path.join(train_cleaned_dir,file_name)\n",
    "            if os.path.isfile(cleaned_path):\n",
    "                train_images_pair.append((watermarked_path,cleaned_path))\n",
    "            else:\n",
    "                print(f\"Bỏ qua {file_name} vì không tìm thấy ảnh sạch tương ứng\")\n",
    "        if not (train_images_pair):\n",
    "            print(f\"Không tạo được cặp ảnh hợp lệ cho tập train\")\n",
    "            data_valid=False\n",
    "    except Exception as e:\n",
    "        print(f\"Lỗi khi quét thư mục {train_watermarked_dir}: {e}\")\n",
    "        data_valid=False\n",
    "    \n",
    "#xử lý tập val nếu tập train có tồn tại\n",
    "#đường dẫn đến data/val/watermarked và data/val/cleaned\n",
    "if data_valid:\n",
    "    val_cleaned_dir=os.path.join(data_root_dir,'val','cleaned')\n",
    "    val_watermarked_dir=os.path.join(data_root_dir,'val','watermarked')\n",
    "#kiểm tra xem đường dẫn có trỏ đến thư mục tồn tại\n",
    "if not os.path.isdir(val_cleaned_dir):\n",
    "    print(f\"Thư mục {val_cleaned_dir} không tồn tại\")\n",
    "    data_valid=False\n",
    "if not os.path.isdir(val_watermarked_dir):\n",
    "    print(f\"Thư mục {val_watermarked_dir} không tồn tại\")\n",
    "    data_valid=False\n",
    "if data_valid:\n",
    "    try:\n",
    "        print(f\"Đang quét thư mục {val_watermarked_dir}\")\n",
    "        val_files=sorted([\n",
    "            f for f in os.listdir(val_watermarked_dir)\n",
    "            if f.lower().eandswwith(('.png','.jpg','.jpeg'))\n",
    "        ])\n",
    "        if not val_files:\n",
    "            print(f\"Không tìm thấy file nào trong thư mục {val_watermarked_dir}\")\n",
    "        for file_name in val_files:\n",
    "            watermarked_path=os.path.join(val_watermarked_dir,file_name)\n",
    "            cleaned_path=os.path.join(val_cleaned_dir,file_name)\n",
    "            if os.path.isfile(cleaned_path):\n",
    "                test_images_pair.append((watermarked_path,cleaned_path))\n",
    "            else:\n",
    "                print(f\"Bỏ qua {file_name} vì không tìm thấy ảnh sạch tương ứng\")\n",
    "        if not (test_images_pair):\n",
    "            print(f\"Không tạo được tập ảnh hợp lệ cho tập val\")\n",
    "            data_valid=False\n",
    "    except Exception as e:\n",
    "        print(f\"Lỗi khi quét thư mục {val_watermarked_dir}: {e}\")\n",
    "        data_valid=False"
   ]
  }
 ],
 "metadata": {
  "kernelspec": {
   "display_name": "vy_minh_clean",
   "language": "python",
   "name": "python3"
  },
  "language_info": {
   "codemirror_mode": {
    "name": "ipython",
    "version": 3
   },
   "file_extension": ".py",
   "mimetype": "text/x-python",
   "name": "python",
   "nbconvert_exporter": "python",
   "pygments_lexer": "ipython3",
   "version": "3.10.16"
  }
 },
 "nbformat": 4,
 "nbformat_minor": 2
}
