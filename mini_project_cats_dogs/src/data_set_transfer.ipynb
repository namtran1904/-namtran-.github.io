{
 "cells": [
  {
   "cell_type": "code",
   "execution_count": 13,
   "metadata": {},
   "outputs": [
    {
     "name": "stdout",
     "output_type": "stream",
     "text": [
      "Đã import các thư viện\n"
     ]
    }
   ],
   "source": [
    "import torch\n",
    "from torchvision import transforms #hàm để thực hiện các phép biến đổi ảnh\n",
    "from torchvision import datasets  #chứa lớp ImageFolder \n",
    "from torch.utils.data import DataLoader #tạo trình tải dữ liệu theo batch\n",
    "import numpy as np\n",
    "import os #làm việc với đường dẫn thư mục \n",
    "import matplotlib.pyplot as plt\n",
    "print(f\"Đã import các thư viện\")"
   ]
  },
  {
   "cell_type": "markdown",
   "metadata": {},
   "source": [
    "# Định  nghĩa đường dẫn tới các file dữ liệu "
   ]
  },
  {
   "cell_type": "code",
   "execution_count": null,
   "metadata": {},
   "outputs": [
    {
     "name": "stdout",
     "output_type": "stream",
     "text": [
      "Thư mục train : /Users/namtran/practice.py/mini_project_cats_dogs/data/train\n",
      "Thư mục validation : /Users/namtran/practice.py/mini_project_cats_dogs/data/validation\n",
      ":Kích thước ảnh chuẩn hoá : 50176\n",
      "Kích thước lô dữ liệu : 35\n"
     ]
    }
   ],
   "source": [
    "#định nghĩa đường dẫn\n",
    "data_folder='../data'\n",
    "train_dir=os.path.join(data_folder,'train')\n",
    "validation_dir=os.path.join(data_folder,'validation')\n",
    "\n",
    "#kích thước ảnh mục tiêu\n",
    "img_size=224\n",
    "\n",
    "#kích thước lô dữ liệu \n",
    "batch_size=8\n",
    "\n",
    "#giá trị trung bình và độ lệch chuẩn để chuẩn hoá ảnh theo chuẩn (imagenet)\n",
    "normalize_mean=[0.485, 0.456, 0.406]\n",
    "normalize_std=[0.229, 0.224, 0.225]\n",
    "\n",
    "print(f\"Thư mục train : {os.path.abspath(train_dir)}\")\n",
    "print(f\"Thư mục validation : {os.path.abspath(validation_dir)}\")\n",
    "print(f\":Kích thước ảnh chuẩn hoá : {img_size*img_size}\")\n",
    "print(f\"Kích thước lô dữ liệu : {batch_size}\")"
   ]
  },
  {
   "cell_type": "markdown",
   "metadata": {},
   "source": [
    "# Định nghĩa các phép biến đổi (transforms)"
   ]
  },
  {
   "cell_type": "code",
   "execution_count": 15,
   "metadata": {},
   "outputs": [
    {
     "name": "stdout",
     "output_type": "stream",
     "text": [
      "Đã định nghĩa các phép biến đổi cho tập train và validation\n"
     ]
    }
   ],
   "source": [
    "train_transforms=transforms.Compose([\n",
    "    transforms.RandomResizedCrop(img_size),\n",
    "    transforms.RandomHorizontalFlip(p=0.5),\n",
    "    transforms.RandomRotation(10),\n",
    "    transforms.ToTensor(),\n",
    "    transforms.Normalize(mean=normalize_mean, std=normalize_std)\n",
    "])\n",
    "\n",
    "validation_transforms=transforms.Compose([\n",
    "    transforms.Resize(256),\n",
    "    transforms.CenterCrop(img_size),\n",
    "    transforms.ToTensor(),\n",
    "    transforms.Normalize(mean=normalize_mean,std=normalize_std)\n",
    "])# chúng ta sẽ không dùng augmentation cho tập validation\n",
    "print(f\"Đã định nghĩa các phép biến đổi cho tập train và validation\")"
   ]
  },
  {
   "cell_type": "markdown",
   "metadata": {},
   "source": [
    "# Tạo đối tượng dataset bằng ImageFolder"
   ]
  },
  {
   "cell_type": "code",
   "execution_count": 16,
   "metadata": {},
   "outputs": [
    {
     "name": "stdout",
     "output_type": "stream",
     "text": [
      "Tạo đối tượng thành công\n",
      "Số lớp : 2\n",
      "Tên lớp : ['cats', 'dogs']\n",
      "Chỉ số lớp : {'cats': 0, 'dogs': 1}\n"
     ]
    }
   ],
   "source": [
    "try:\n",
    "    #tạo dataset cho tập train và áp dụng train_transforms\n",
    "    train_dataset=datasets.ImageFolder(train_dir,transform=train_transforms)\n",
    "    #tạo dataset cho tập validation và áp dụng validation_transforms\n",
    "    validation_dataset=datasets.ImageFolder(validation_dir,transform=validation_transforms)\n",
    "    print(f\"Tạo đối tượng thành công\")\n",
    "    \n",
    "    #lấy danh sách tên các lớp\n",
    "    class_names=train_dataset.classes\n",
    "    #chuyển từ tên sang chỉ số\n",
    "    class_to_index=train_dataset.class_to_idx\n",
    "    #tổng số lớp\n",
    "    num_classes=len(class_names)\n",
    "    print(f\"Số lớp : {num_classes}\")\n",
    "    print(f\"Tên lớp : {class_names}\")\n",
    "    print(f\"Chỉ số lớp : {class_to_index}\")\n",
    "    if len(train_dataset)==0 or len(validation_dataset)==0:\n",
    "        print(\"Không có ảnh trong tập train hoặc validation\")\n",
    "        raise ValueError(\"Không có ảnh trong tập train hoặc validation\")\n",
    "except FileNotFoundError as e:\n",
    "    print(f\"Không tìm thấy thư mục ảnh : {e}\")\n",
    "    raise\n",
    "except Exception as e:\n",
    "    print(f\"Có lỗi xảy ra khi tạo dataset : {e}\")\n",
    "    raise"
   ]
  },
  {
   "cell_type": "markdown",
   "metadata": {},
   "source": [
    "# Tạo đối tượng DataLoader\n"
   ]
  },
  {
   "cell_type": "code",
   "execution_count": 17,
   "metadata": {},
   "outputs": [
    {
     "name": "stdout",
     "output_type": "stream",
     "text": [
      "Đã tạo thành công DataLoader cho tập train và validation\n"
     ]
    }
   ],
   "source": [
    "train_loader=DataLoader(train_dataset, #dataset để tải\n",
    "                        batch_size=batch_size, #kích thước lô dữ liệu\n",
    "                        shuffle=True, #xáo trộn dữ liệu train sau mỗi epoch\n",
    "                        num_workers=0) #số luồng\n",
    "\n",
    "validation_loader=DataLoader(validation_dataset, #dataset để tải\n",
    "                             batch_size=batch_size, #kích thước lô dữ liệu\n",
    "                             shuffle=False, #không xáo trộn dữ liệu validation\n",
    "                             num_workers=0) #số luồng\n",
    "print(f\"Đã tạo thành công DataLoader cho tập train và validation\")"
   ]
  },
  {
   "cell_type": "markdown",
   "metadata": {},
   "source": [
    "# Kiểm tra DataLoader"
   ]
  },
  {
   "cell_type": "code",
   "execution_count": 18,
   "metadata": {},
   "outputs": [
    {
     "name": "stdout",
     "output_type": "stream",
     "text": [
      "Kiểm tra dataloader\n",
      "Kích thước ảnh kiểm tra : torch.Size([35, 3, 224, 224])\n",
      "Kích thước nhãn kiểm tra : torch.Size([35])\n",
      "Kiểm tra dataloader thành công\n",
      "Đã kiểm tra dataloader thành công\n"
     ]
    }
   ],
   "source": [
    "try:\n",
    "    print(f\"Kiểm tra dataloader\")\n",
    "    images_check,labels_check=next(iter(train_loader)) #lấy 1 batch từ dataloader\n",
    "    print(f\"Kích thước ảnh kiểm tra : {images_check.size()}\")\n",
    "    print(f\"Kích thước nhãn kiểm tra : {labels_check.size()}\")\n",
    "    print(f\"Kiểm tra dataloader thành công\")\n",
    "except Exception as e:\n",
    "    print(f\"Có lỗi xảy ra khi kiểm tra dataloader : {e}\")\n",
    "    raise\n",
    "print(f\"Đã kiểm tra dataloader thành công\")"
   ]
  }
 ],
 "metadata": {
  "kernelspec": {
   "display_name": "vy_minh_clean",
   "language": "python",
   "name": "python3"
  },
  "language_info": {
   "codemirror_mode": {
    "name": "ipython",
    "version": 3
   },
   "file_extension": ".py",
   "mimetype": "text/x-python",
   "name": "python",
   "nbconvert_exporter": "python",
   "pygments_lexer": "ipython3",
   "version": "3.10.16"
  }
 },
 "nbformat": 4,
 "nbformat_minor": 2
}
