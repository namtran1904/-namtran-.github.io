{
 "cells": [
  {
   "cell_type": "code",
   "execution_count": 53,
   "metadata": {},
   "outputs": [
    {
     "name": "stdout",
     "output_type": "stream",
     "text": [
      "Đã import các thư viện cần thiết\n"
     ]
    }
   ],
   "source": [
    "import torch\n",
    "import torch.nn.functional as F\n",
    "import torch.nn as nn\n",
    "print(f\"Đã import các thư viện cần thiết\")\n"
   ]
  },
  {
   "cell_type": "code",
   "execution_count": 54,
   "metadata": {},
   "outputs": [],
   "source": [
    "def custom_loss(outputs,labels):\n",
    "    labels=labels.float()\n",
    "    epsilon=1e-7\n",
    "    outputs_clipped=torch.clamp(outputs,min=epsilon,max=1-epsilon)\n",
    "\n",
    "    #tính toán thành phần y*log(p)\n",
    "    log_p=torch.log(outputs_clipped)\n",
    "    term_1=labels*log_p\n",
    "\n",
    "    #tính toán thành phần (1-y)&log(1-p)\n",
    "    log_1_minus_p=torch.log(1-outputs_clipped)\n",
    "    term_2=(1-labels)*log_1_minus_p\n",
    "\n",
    "    #tính giá trị hàm mất mát của từng mẫu riêng lẻ trong batch\n",
    "    loss_per_sample=-(term_1 + term_2)\n",
    "\n",
    "    #tính giá trị trung bình của hàm mất mát các mẫu trên batch\n",
    "    average_loss=loss_per_sample.mean()\n",
    "\n",
    "    return average_loss"
   ]
  },
  {
   "cell_type": "markdown",
   "metadata": {},
   "source": [
    "# Hàm để lấy loss custom"
   ]
  },
  {
   "cell_type": "code",
   "execution_count": 55,
   "metadata": {},
   "outputs": [
    {
     "name": "stdout",
     "output_type": "stream",
     "text": [
      "Đã định nghĩa hàm mất mát tùy chỉnh\n"
     ]
    }
   ],
   "source": [
    "def get_loss_custom():\n",
    "    \"\"\"\n",
    "    Hàm trả về hàm mất mát tùy chỉnh\n",
    "    \"\"\"\n",
    "    return custom_loss\n",
    "print(f\"Đã định nghĩa hàm mất mát tùy chỉnh\")\n",
    "    "
   ]
  },
  {
   "cell_type": "markdown",
   "metadata": {},
   "source": [
    "# Kiểm tra hàm loss"
   ]
  },
  {
   "cell_type": "code",
   "execution_count": 56,
   "metadata": {},
   "outputs": [
    {
     "name": "stdout",
     "output_type": "stream",
     "text": [
      "\n",
      "Chạy loss.ipynb để kiểm tra\n",
      "Đối lượng loss function đã được tạo <function custom_loss at 0x11f219990>\n",
      "Kiểm tra với dữ liệu giả\n",
      "  Dummy Probabilities (Input cho hàm loss): tensor([0.5121, 0.4526, 0.2119, 0.3704])\n",
      "  Dummy Labels (Target): tensor([0., 1., 1., 0.])\n",
      "Giá trị loss là 0.8812\n",
      "Giá trị loss theo hàm chuẩn là 0.8812\n",
      "Giá trị loss theo hàm chuẩn là 0.8812\n",
      "Đã hoàn thành kiểm tra hàm loss\n"
     ]
    }
   ],
   "source": [
    "if __name__ ==\"__main__\":\n",
    "    print(f\"\\nChạy loss.ipynb để kiểm tra\")\n",
    "    #lấy hàm loss tự viết\n",
    "    get_loss=get_loss_custom\n",
    "    print(f\"Đối lượng loss function đã được tạo {custom_loss}\")\n",
    "\n",
    "    #tạo dữ liệu giả\n",
    "    import torch\n",
    "    print(f\"Kiểm tra với dữ liệu giả\")\n",
    "\n",
    "    #giả lập logits thô (trước khi qua sigmoid)\n",
    "    dummy_logits=torch.randn(4,1)\n",
    "    #áp dụng sigmoid\n",
    "    dummy_outputs_prob=dummy_logits.sigmoid()\n",
    "    print(\"  Dummy Probabilities (Input cho hàm loss):\", dummy_outputs_prob.squeeze())\n",
    "\n",
    "    #giả lập nhãn thật \n",
    "    dummy_labels=torch.tensor([[0.0] , [1.0] , [1.0] , [0.0]])\n",
    "    print(\"  Dummy Labels (Target):\", dummy_labels.squeeze())\n",
    "    \n",
    "    try:\n",
    "        #tính toán hàm mất mát\n",
    "        loss_value=custom_loss(dummy_outputs_prob,dummy_labels)\n",
    "        print(f\"Giá trị loss là {loss_value.item():.4f}\")\n",
    "\n",
    "        #so sánh với hàm chuẩn để kiểm tra lại\n",
    "        #1/ so sánh với nn.BCELoss với đầu vào là xác suất\n",
    "        #tính toán hàm mất mát với hàm chuẩn\n",
    "        criterion_bce=nn.BCELoss()\n",
    "        pytorch_loss_bce=criterion_bce(dummy_outputs_prob,dummy_labels)\n",
    "        print(f\"Giá trị loss theo hàm chuẩn là {pytorch_loss_bce.item():.4f}\")\n",
    "\n",
    "        #2/so sánh với nn.BCEWithLogitsLoss với đầu vào là logits\n",
    "        criterion_bce_logits=nn.BCEWithLogitsLoss()\n",
    "        pytorch_loss_logits=criterion_bce_logits(dummy_logits,dummy_labels)\n",
    "        print(f\"Giá trị loss theo hàm chuẩn là {pytorch_loss_logits.item():.4f}\")\n",
    "    except Exception as e:\n",
    "        print(f\"Đã xảy ra lỗi: {e}\")\n",
    "print(f\"Đã hoàn thành kiểm tra hàm loss\")\n",
    "\n",
    "        \n",
    "\n",
    "\n",
    "\n",
    "\n",
    "\n"
   ]
  }
 ],
 "metadata": {
  "kernelspec": {
   "display_name": "vy_minh_clean",
   "language": "python",
   "name": "python3"
  },
  "language_info": {
   "codemirror_mode": {
    "name": "ipython",
    "version": 3
   },
   "file_extension": ".py",
   "mimetype": "text/x-python",
   "name": "python",
   "nbconvert_exporter": "python",
   "pygments_lexer": "ipython3",
   "version": "3.10.16"
  }
 },
 "nbformat": 4,
 "nbformat_minor": 2
}
